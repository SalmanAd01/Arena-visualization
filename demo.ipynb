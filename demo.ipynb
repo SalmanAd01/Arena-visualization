{
 "cells": [
  {
   "cell_type": "code",
   "execution_count": 132,
   "metadata": {},
   "outputs": [],
   "source": [
    "import pandas as pd\n",
    "from bs4 import BeautifulSoup\n",
    "import requests\n",
    "from pprint import pprint as p"
   ]
  },
  {
   "cell_type": "code",
   "execution_count": 133,
   "metadata": {},
   "outputs": [],
   "source": [
    "url = 'http://arena.siesgst.ac.in/contest/GSL02/status'\n",
    "\n",
    "res = requests.get(url=url)\n",
    "soup = BeautifulSoup(res.content, \"html.parser\")"
   ]
  },
  {
   "cell_type": "code",
   "execution_count": 134,
   "metadata": {},
   "outputs": [
    {
     "name": "stdout",
     "output_type": "stream",
     "text": [
      "6\n"
     ]
    }
   ],
   "source": [
    "results = soup.find_all('div', class_='d-flex justify-content-center')\n",
    "# print(results, \"\\n\\n\")\n",
    "\n",
    "res = str(results).count(\"<a \")\n",
    "print(res)"
   ]
  },
  {
   "cell_type": "code",
   "execution_count": 135,
   "metadata": {},
   "outputs": [],
   "source": [
    "\n",
    "def table_data(soup):\n",
    "    global df\n",
    "    for t in soup.find_all('tr'):\n",
    "        try:\n",
    "            username = t.find_all('td')[2].text\n",
    "            problem = t.find_all('td')[3].text\n",
    "            verdict = t.find_all('td')[4].text\n",
    "            language = t.find_all('td')[5].text\n",
    "            time = t.find_all('td')[6].text\n",
    "            memory = t.find_all('td')[7].text\n",
    "            print(username, problem, verdict, language, time, memory)\n",
    "            df = df.append({'username': username, 'problem': problem, 'verdict': verdict,\n",
    "                           'language': language, 'time': time, 'memory': memory}, ignore_index=True)\n",
    "\n",
    "        except:\n",
    "            pass"
   ]
  },
  {
   "cell_type": "code",
   "execution_count": 136,
   "metadata": {},
   "outputs": [],
   "source": [
    "df = pd.DataFrame(columns=['username', 'problem',\n",
    "                  'verdict', 'language', 'time', 'memory'])"
   ]
  },
  {
   "cell_type": "code",
   "execution_count": 137,
   "metadata": {},
   "outputs": [
    {
     "name": "stdout",
     "output_type": "stream",
     "text": [
      " suryamadhavan Boxes and Colours  Runtime Error   Python3  0.016867s  2 KB\n",
      " sravya Chloe Loves Flowers   Accepted   Python3  0.017014s  2 KB\n",
      " jsnehal1 Hide n Seek   Wrong Answer   Python3  0.024723s  2888 KB\n",
      " msarvesh Chloe Loves Flowers   Runtime Error   Python3  0.017152s  2 KB\n",
      " msarvesh Chloe Loves Flowers   Runtime Error   Python3  0.016651s  2 KB\n",
      " msarvesh Chloe Loves Flowers   Runtime Error   Python3  0.017077s  2 KB\n",
      " suryamadhavan Boxes and Colours   Wrong Answer   C++  0.008596s  2 KB\n",
      " suryamadhavan Hide n Seek  Accepted   C++  0.008614s  2 KB\n",
      " lats_123 Interesting Discount  Runtime Error   C++  0.017877s  2 KB\n",
      " bhaktig Chloe Loves Flowers    Compilation Error   Python3  0s  0KB\n",
      " Shashank-Deep Chloe Loves Flowers    Wrong Answer   C  0.010321s  2 KB\n",
      " SRiVARi Hide n Seek   Wrong Answer   Python3  0.025756s  2888 KB\n",
      " Sucharya01 Chloe Loves Flowers   Accepted   Python3  0.030186s  2888 KB\n",
      " SRiVARi Hide n Seek   Wrong Answer   Python3  0.02566s  2888 KB\n",
      " SRiVARi Hide n Seek   Wrong Answer   Python3  0.025739s  2888 KB\n",
      " suryamadhavan Boxes and Colours  Runtime Error   Python3  0.016867s  2 KB\n",
      " sravya Chloe Loves Flowers   Accepted   Python3  0.017014s  2 KB\n",
      " jsnehal1 Hide n Seek   Wrong Answer   Python3  0.024723s  2888 KB\n",
      " msarvesh Chloe Loves Flowers   Runtime Error   Python3  0.017152s  2 KB\n",
      " msarvesh Chloe Loves Flowers   Runtime Error   Python3  0.016651s  2 KB\n",
      " msarvesh Chloe Loves Flowers   Runtime Error   Python3  0.017077s  2 KB\n",
      " suryamadhavan Boxes and Colours   Wrong Answer   C++  0.008596s  2 KB\n",
      " suryamadhavan Hide n Seek  Accepted   C++  0.008614s  2 KB\n",
      " lats_123 Interesting Discount  Runtime Error   C++  0.017877s  2 KB\n",
      " bhaktig Chloe Loves Flowers    Compilation Error   Python3  0s  0KB\n",
      " Shashank-Deep Chloe Loves Flowers    Wrong Answer   C  0.010321s  2 KB\n",
      " SRiVARi Hide n Seek   Wrong Answer   Python3  0.025756s  2888 KB\n",
      " Sucharya01 Chloe Loves Flowers   Accepted   Python3  0.030186s  2888 KB\n",
      " SRiVARi Hide n Seek   Wrong Answer   Python3  0.02566s  2888 KB\n",
      " SRiVARi Hide n Seek   Wrong Answer   Python3  0.025739s  2888 KB\n",
      " SRiVARi Chloe Loves Flowers   Accepted   Python3  0.017402s  2 KB\n",
      " jsnehal1 Interesting Discount  Accepted   Python3  0.030079s  2888 KB\n",
      " jsnehal1 Interesting Discount   Wrong Answer   Python3  0.016793s  2 KB\n",
      " Ronnie468 Interesting Discount  Accepted   Python3  0.016512s  2 KB\n",
      " Prathamesh Hide n Seek  Accepted   C++  0.009616s  2 KB\n",
      " kanddakumaran Chloe Loves Flowers    Wrong Answer   Python3  0.016724s  2 KB\n",
      " kanddakumaran Chloe Loves Flowers    Wrong Answer   Python3  0.016607s  2 KB\n",
      " Abd786 Boxes and Colours   Wrong Answer   Python3  0.05464s  2888 KB\n",
      " Abd786 Interesting Discount   Wrong Answer   Python3  0.028944s  2888 KB\n",
      " Prathamesh Interesting Discount  Accepted   C++  0.021359s  2 KB\n",
      " Prathamesh Interesting Discount   Wrong Answer   C++  0.021317s  2 KB\n",
      " Abd786 Hide n Seek  Accepted   Python3  0.028682s  2888 KB\n",
      " Prathamesh Boxes and Colours  Accepted   C++  0.022002s  2 KB\n",
      " Abd786 Hide n Seek   Wrong Answer   Python3  0.028808s  2888 KB\n",
      " kanddakumaran Chloe Loves Flowers    Wrong Answer   Python3  0.027241s  2 KB\n",
      " SRiVARi Interesting Discount  Accepted   Python3  0.029539s  2888 KB\n",
      " kanddakumaran Chloe Loves Flowers    Wrong Answer   Python3  0.028211s  3144 KB\n",
      " Sd2000 Hide n Seek  Accepted   Python3  0.053018s  2888 KB\n",
      " Codelord_10 Boxes and Colours  Accepted   Python3  0.254993s  2888 KB\n",
      " Aditya14022002 Hide n Seek  Accepted   C++  0.022008s  2 KB\n",
      " Aditya14022002 Hide n Seek   Wrong Answer   C++  0.01204s  2 KB\n",
      " Abd786 Chloe Loves Flowers   Accepted   Python3  0.027557s  2888 KB\n",
      " lats_123 Boxes and Colours  Runtime Error   C++  0.0205s  2 KB\n",
      " Ronnie468 Chloe Loves Flowers   Accepted   Python3  0.02969s  2888 KB\n",
      " Ronnie468 Chloe Loves Flowers    Time Limit Exceeded   Python3  5.01106s  2888 KB\n",
      " kanddakumaran Chloe Loves Flowers    Wrong Answer   Python3  0.027644s  2888 KB\n",
      " kanddakumaran Chloe Loves Flowers    Wrong Answer   Python3  0.029821s  2888 KB\n",
      " kanddakumaran Chloe Loves Flowers    Wrong Answer   Python3  0.02988s  2888 KB\n",
      " kanddakumaran Chloe Loves Flowers    Wrong Answer   Python3  0.02738s  2888 KB\n",
      " kanddakumaran Chloe Loves Flowers    Wrong Answer   Python3  0.029442s  2888 KB\n",
      " kanddakumaran Chloe Loves Flowers    Wrong Answer   Python3  0.02796s  2888 KB\n",
      " Aditya14022002 Interesting Discount  Accepted   Python3  0.029224s  2888 KB\n",
      " AmitChaurasiya Chloe Loves Flowers   Accepted   C++  0.020132s  2 KB\n",
      " Sd2000 Interesting Discount  Accepted   Python3  0.043622s  2888 KB\n",
      " lats_123 Boxes and Colours  Runtime Error   C++  0.021564s  2 KB\n",
      " Anand235 Interesting Discount  Accepted   Python3  0.020169s  2 KB\n",
      " kanddakumaran Chloe Loves Flowers    Wrong Answer   Python3  0.028161s  2888 KB\n",
      " Codelord_10 Boxes and Colours  Runtime Error   Python3  0.02047s  2 KB\n",
      " DhirajShelke Chloe Loves Flowers    Time Limit Exceeded   Python3  5.006958s  2888 KB\n",
      " Aditya14022002 Chloe Loves Flowers   Accepted   C++  0.021583s  2 KB\n",
      " lats_123 Chloe Loves Flowers   Accepted   C++  0.085319s  360 KB\n",
      " DhirajShelke Chloe Loves Flowers    Time Limit Exceeded   Python3  5.012301s  2888 KB\n",
      " salman01 Boxes and Colours  Accepted   Python3  0.052922s  2888 KB\n",
      " Anand235 Boxes and Colours  Accepted   Python3  0.052949s  2888 KB\n",
      " kanddakumaran Chloe Loves Flowers   Runtime Error   Python3  0.019454s  2 KB\n",
      " Anand235 Interesting Discount  Runtime Error   Python3  0.027576s  2888 KB\n",
      " salman01 Chloe Loves Flowers   Accepted   Python3  4.148323s  2888 KB\n",
      " salman01 Chloe Loves Flowers    Wrong Answer   Python3  2.605425s  2888 KB\n",
      " Anand235 Interesting Discount   Wrong Answer   Python3  0.020084s  2 KB\n",
      " suryamadhavan Chloe Loves Flowers   Accepted   C++  0.019995s  2 KB\n",
      " kanddakumaran Chloe Loves Flowers   Runtime Error   Python3  0.028845s  2 KB\n",
      " salman01 Chloe Loves Flowers    Time Limit Exceeded   Python3  5.008052s  2888 KB\n",
      " DhirajShelke Chloe Loves Flowers    Time Limit Exceeded   Python3  5.010879s  2888 KB\n",
      " Anand235 Interesting Discount   Wrong Answer   Python3  0.019265s  2 KB\n",
      " DhirajShelke Chloe Loves Flowers    Time Limit Exceeded   Python3  5.011753s  2888 KB\n",
      " Anand235 Interesting Discount   Wrong Answer   Python3  0.029061s  2888 KB\n",
      " Anand235 Interesting Discount   Wrong Answer   Python3  0.029245s  2888 KB\n",
      " salman01 Hide n Seek  Accepted   Python3  0.030136s  2888 KB\n",
      " DhirajShelke Chloe Loves Flowers    Time Limit Exceeded   Python3  5.007587s  2888 KB\n",
      " Codelord_10 Chloe Loves Flowers   Accepted   C++  0.020567s  2 KB\n"
     ]
    }
   ],
   "source": [
    "for i in range(res):\n",
    "    url = 'http://arena.siesgst.ac.in/contest/GSL02/status?page=' + str(i)\n",
    "    res = requests.get(url=url)\n",
    "    soup = BeautifulSoup(res.content, \"html.parser\")\n",
    "    table_data(soup)"
   ]
  },
  {
   "cell_type": "code",
   "execution_count": 138,
   "metadata": {},
   "outputs": [],
   "source": [
    "\n",
    "df.to_csv('GSL02.csv', index=False)"
   ]
  },
  {
   "cell_type": "code",
   "execution_count": 139,
   "metadata": {},
   "outputs": [
    {
     "data": {
      "text/html": [
       "<div>\n",
       "<style scoped>\n",
       "    .dataframe tbody tr th:only-of-type {\n",
       "        vertical-align: middle;\n",
       "    }\n",
       "\n",
       "    .dataframe tbody tr th {\n",
       "        vertical-align: top;\n",
       "    }\n",
       "\n",
       "    .dataframe thead th {\n",
       "        text-align: right;\n",
       "    }\n",
       "</style>\n",
       "<table border=\"1\" class=\"dataframe\">\n",
       "  <thead>\n",
       "    <tr style=\"text-align: right;\">\n",
       "      <th></th>\n",
       "      <th>username</th>\n",
       "      <th>problem</th>\n",
       "      <th>verdict</th>\n",
       "      <th>language</th>\n",
       "      <th>time</th>\n",
       "      <th>memory</th>\n",
       "    </tr>\n",
       "  </thead>\n",
       "  <tbody>\n",
       "    <tr>\n",
       "      <th>0</th>\n",
       "      <td>suryamadhavan</td>\n",
       "      <td>Boxes and Colours</td>\n",
       "      <td>Runtime Error</td>\n",
       "      <td>Python3</td>\n",
       "      <td>0.016867s</td>\n",
       "      <td>2 KB</td>\n",
       "    </tr>\n",
       "    <tr>\n",
       "      <th>1</th>\n",
       "      <td>sravya</td>\n",
       "      <td>Chloe Loves Flowers</td>\n",
       "      <td>Accepted</td>\n",
       "      <td>Python3</td>\n",
       "      <td>0.017014s</td>\n",
       "      <td>2 KB</td>\n",
       "    </tr>\n",
       "    <tr>\n",
       "      <th>2</th>\n",
       "      <td>jsnehal1</td>\n",
       "      <td>Hide n Seek</td>\n",
       "      <td>Wrong Answer</td>\n",
       "      <td>Python3</td>\n",
       "      <td>0.024723s</td>\n",
       "      <td>2888 KB</td>\n",
       "    </tr>\n",
       "    <tr>\n",
       "      <th>3</th>\n",
       "      <td>msarvesh</td>\n",
       "      <td>Chloe Loves Flowers</td>\n",
       "      <td>Runtime Error</td>\n",
       "      <td>Python3</td>\n",
       "      <td>0.017152s</td>\n",
       "      <td>2 KB</td>\n",
       "    </tr>\n",
       "    <tr>\n",
       "      <th>4</th>\n",
       "      <td>msarvesh</td>\n",
       "      <td>Chloe Loves Flowers</td>\n",
       "      <td>Runtime Error</td>\n",
       "      <td>Python3</td>\n",
       "      <td>0.016651s</td>\n",
       "      <td>2 KB</td>\n",
       "    </tr>\n",
       "  </tbody>\n",
       "</table>\n",
       "</div>"
      ],
      "text/plain": [
       "         username               problem         verdict   language  \\\n",
       "0   suryamadhavan     Boxes and Colours   Runtime Error    Python3   \n",
       "1          sravya  Chloe Loves Flowers         Accepted    Python3   \n",
       "2        jsnehal1           Hide n Seek    Wrong Answer    Python3   \n",
       "3        msarvesh  Chloe Loves Flowers    Runtime Error    Python3   \n",
       "4        msarvesh  Chloe Loves Flowers    Runtime Error    Python3   \n",
       "\n",
       "         time    memory  \n",
       "0   0.016867s      2 KB  \n",
       "1   0.017014s      2 KB  \n",
       "2   0.024723s   2888 KB  \n",
       "3   0.017152s      2 KB  \n",
       "4   0.016651s      2 KB  "
      ]
     },
     "execution_count": 139,
     "metadata": {},
     "output_type": "execute_result"
    }
   ],
   "source": [
    "# load the data\n",
    "df = pd.read_csv('GSL02.csv')\n",
    "df.head()"
   ]
  },
  {
   "cell_type": "code",
   "execution_count": 140,
   "metadata": {},
   "outputs": [
    {
     "data": {
      "image/png": "[encoded data removed]",
      "text/plain": [
       "<Figure size 432x288 with 1 Axes>"
      ]
     },
     "metadata": {},
     "output_type": "display_data"
    }
   ],
   "source": [
    "import matplotlib.pyplot as plt\n",
    "# pie chart\n",
    "labels = df['verdict'].value_counts().index\n",
    "sizes = df['verdict'].value_counts()\n",
    "plt.pie(sizes, labels=labels, autopct='%1.1f%%',\n",
    "        shadow=True, startangle=90)\n",
    "plt.axis('equal')\n",
    "plt.show()\n"
   ]
  },
  {
   "cell_type": "code",
   "execution_count": 141,
   "metadata": {},
   "outputs": [
    {
     "data": {
      "image/png": "[encoded data removed]",
      "text/plain": [
       "<Figure size 432x288 with 1 Axes>"
      ]
     },
     "metadata": {},
     "output_type": "display_data"
    }
   ],
   "source": [
    "# pie chart based on language\n",
    "labels = df['language'].value_counts().index\n",
    "sizes = df['language'].value_counts()\n",
    "plt.pie(sizes, labels=labels, autopct='%1.1f%%',\n",
    "        shadow=True, startangle=90)\n",
    "plt.axis('equal')\n",
    "plt.show()"
   ]
  },
  {
   "cell_type": "code",
   "execution_count": 142,
   "metadata": {},
   "outputs": [
    {
     "data": {
      "image/png": "[encoded data removed]",
      "text/plain": [
       "<Figure size 432x288 with 1 Axes>"
      ]
     },
     "metadata": {
      "needs_background": "light"
     },
     "output_type": "display_data"
    }
   ],
   "source": [
    "# bar chart for accpeted vs problem\n",
    "df['verdict'].value_counts().plot(kind='bar')\n",
    "plt.show()"
   ]
  },
  {
   "cell_type": "code",
   "execution_count": 143,
   "metadata": {},
   "outputs": [
    {
     "data": {
      "text/plain": [
       "username    object\n",
       "problem     object\n",
       "verdict     object\n",
       "language    object\n",
       "time        object\n",
       "memory      object\n",
       "dtype: object"
      ]
     },
     "execution_count": 143,
     "metadata": {},
     "output_type": "execute_result"
    }
   ],
   "source": [
    "df.dtypes"
   ]
  },
  {
   "cell_type": "code",
   "execution_count": 144,
   "metadata": {},
   "outputs": [],
   "source": [
    "df['verdict'] = df['verdict'].astype(\"string\")"
   ]
  },
  {
   "cell_type": "code",
   "execution_count": 145,
   "metadata": {},
   "outputs": [
    {
     "data": {
      "text/plain": [
       "username    object\n",
       "problem     object\n",
       "verdict     string\n",
       "language    object\n",
       "time        object\n",
       "memory      object\n",
       "dtype: object"
      ]
     },
     "execution_count": 145,
     "metadata": {},
     "output_type": "execute_result"
    }
   ],
   "source": [
    "df.dtypes"
   ]
  },
  {
   "cell_type": "code",
   "execution_count": 146,
   "metadata": {},
   "outputs": [
    {
     "data": {
      "text/html": [
       "<div>\n",
       "<style scoped>\n",
       "    .dataframe tbody tr th:only-of-type {\n",
       "        vertical-align: middle;\n",
       "    }\n",
       "\n",
       "    .dataframe tbody tr th {\n",
       "        vertical-align: top;\n",
       "    }\n",
       "\n",
       "    .dataframe thead th {\n",
       "        text-align: right;\n",
       "    }\n",
       "</style>\n",
       "<table border=\"1\" class=\"dataframe\">\n",
       "  <thead>\n",
       "    <tr style=\"text-align: right;\">\n",
       "      <th></th>\n",
       "      <th>username</th>\n",
       "      <th>problem</th>\n",
       "      <th>verdict</th>\n",
       "      <th>language</th>\n",
       "      <th>time</th>\n",
       "      <th>memory</th>\n",
       "    </tr>\n",
       "  </thead>\n",
       "  <tbody>\n",
       "    <tr>\n",
       "      <th>0</th>\n",
       "      <td>suryamadhavan</td>\n",
       "      <td>Boxes and Colours</td>\n",
       "      <td>Runtime Error</td>\n",
       "      <td>Python3</td>\n",
       "      <td>0.016867s</td>\n",
       "      <td>2 KB</td>\n",
       "    </tr>\n",
       "    <tr>\n",
       "      <th>1</th>\n",
       "      <td>sravya</td>\n",
       "      <td>Chloe Loves Flowers</td>\n",
       "      <td>Accepted</td>\n",
       "      <td>Python3</td>\n",
       "      <td>0.017014s</td>\n",
       "      <td>2 KB</td>\n",
       "    </tr>\n",
       "    <tr>\n",
       "      <th>2</th>\n",
       "      <td>jsnehal1</td>\n",
       "      <td>Hide n Seek</td>\n",
       "      <td>Wrong Answer</td>\n",
       "      <td>Python3</td>\n",
       "      <td>0.024723s</td>\n",
       "      <td>2888 KB</td>\n",
       "    </tr>\n",
       "    <tr>\n",
       "      <th>3</th>\n",
       "      <td>msarvesh</td>\n",
       "      <td>Chloe Loves Flowers</td>\n",
       "      <td>Runtime Error</td>\n",
       "      <td>Python3</td>\n",
       "      <td>0.017152s</td>\n",
       "      <td>2 KB</td>\n",
       "    </tr>\n",
       "    <tr>\n",
       "      <th>4</th>\n",
       "      <td>msarvesh</td>\n",
       "      <td>Chloe Loves Flowers</td>\n",
       "      <td>Runtime Error</td>\n",
       "      <td>Python3</td>\n",
       "      <td>0.016651s</td>\n",
       "      <td>2 KB</td>\n",
       "    </tr>\n",
       "  </tbody>\n",
       "</table>\n",
       "</div>"
      ],
      "text/plain": [
       "         username               problem         verdict   language  \\\n",
       "0   suryamadhavan     Boxes and Colours   Runtime Error    Python3   \n",
       "1          sravya  Chloe Loves Flowers         Accepted    Python3   \n",
       "2        jsnehal1           Hide n Seek    Wrong Answer    Python3   \n",
       "3        msarvesh  Chloe Loves Flowers    Runtime Error    Python3   \n",
       "4        msarvesh  Chloe Loves Flowers    Runtime Error    Python3   \n",
       "\n",
       "         time    memory  \n",
       "0   0.016867s      2 KB  \n",
       "1   0.017014s      2 KB  \n",
       "2   0.024723s   2888 KB  \n",
       "3   0.017152s      2 KB  \n",
       "4   0.016651s      2 KB  "
      ]
     },
     "execution_count": 146,
     "metadata": {},
     "output_type": "execute_result"
    }
   ],
   "source": [
    "df.head()"
   ]
  },
  {
   "cell_type": "code",
   "execution_count": 149,
   "metadata": {},
   "outputs": [
    {
     "data": {
      "text/html": [
       "<div>\n",
       "<style scoped>\n",
       "    .dataframe tbody tr th:only-of-type {\n",
       "        vertical-align: middle;\n",
       "    }\n",
       "\n",
       "    .dataframe tbody tr th {\n",
       "        vertical-align: top;\n",
       "    }\n",
       "\n",
       "    .dataframe thead th {\n",
       "        text-align: right;\n",
       "    }\n",
       "</style>\n",
       "<table border=\"1\" class=\"dataframe\">\n",
       "  <thead>\n",
       "    <tr style=\"text-align: right;\">\n",
       "      <th></th>\n",
       "      <th>username</th>\n",
       "      <th>problem</th>\n",
       "      <th>verdict</th>\n",
       "      <th>language</th>\n",
       "      <th>time</th>\n",
       "      <th>memory</th>\n",
       "    </tr>\n",
       "  </thead>\n",
       "  <tbody>\n",
       "    <tr>\n",
       "      <th>1</th>\n",
       "      <td>sravya</td>\n",
       "      <td>Chloe Loves Flowers</td>\n",
       "      <td>Accepted</td>\n",
       "      <td>Python3</td>\n",
       "      <td>0.017014s</td>\n",
       "      <td>2 KB</td>\n",
       "    </tr>\n",
       "    <tr>\n",
       "      <th>7</th>\n",
       "      <td>suryamadhavan</td>\n",
       "      <td>Hide n Seek</td>\n",
       "      <td>Accepted</td>\n",
       "      <td>C++</td>\n",
       "      <td>0.008614s</td>\n",
       "      <td>2 KB</td>\n",
       "    </tr>\n",
       "    <tr>\n",
       "      <th>12</th>\n",
       "      <td>Sucharya01</td>\n",
       "      <td>Chloe Loves Flowers</td>\n",
       "      <td>Accepted</td>\n",
       "      <td>Python3</td>\n",
       "      <td>0.030186s</td>\n",
       "      <td>2888 KB</td>\n",
       "    </tr>\n",
       "    <tr>\n",
       "      <th>16</th>\n",
       "      <td>sravya</td>\n",
       "      <td>Chloe Loves Flowers</td>\n",
       "      <td>Accepted</td>\n",
       "      <td>Python3</td>\n",
       "      <td>0.017014s</td>\n",
       "      <td>2 KB</td>\n",
       "    </tr>\n",
       "    <tr>\n",
       "      <th>22</th>\n",
       "      <td>suryamadhavan</td>\n",
       "      <td>Hide n Seek</td>\n",
       "      <td>Accepted</td>\n",
       "      <td>C++</td>\n",
       "      <td>0.008614s</td>\n",
       "      <td>2 KB</td>\n",
       "    </tr>\n",
       "    <tr>\n",
       "      <th>27</th>\n",
       "      <td>Sucharya01</td>\n",
       "      <td>Chloe Loves Flowers</td>\n",
       "      <td>Accepted</td>\n",
       "      <td>Python3</td>\n",
       "      <td>0.030186s</td>\n",
       "      <td>2888 KB</td>\n",
       "    </tr>\n",
       "    <tr>\n",
       "      <th>30</th>\n",
       "      <td>SRiVARi</td>\n",
       "      <td>Chloe Loves Flowers</td>\n",
       "      <td>Accepted</td>\n",
       "      <td>Python3</td>\n",
       "      <td>0.017402s</td>\n",
       "      <td>2 KB</td>\n",
       "    </tr>\n",
       "    <tr>\n",
       "      <th>31</th>\n",
       "      <td>jsnehal1</td>\n",
       "      <td>Interesting Discount</td>\n",
       "      <td>Accepted</td>\n",
       "      <td>Python3</td>\n",
       "      <td>0.030079s</td>\n",
       "      <td>2888 KB</td>\n",
       "    </tr>\n",
       "    <tr>\n",
       "      <th>33</th>\n",
       "      <td>Ronnie468</td>\n",
       "      <td>Interesting Discount</td>\n",
       "      <td>Accepted</td>\n",
       "      <td>Python3</td>\n",
       "      <td>0.016512s</td>\n",
       "      <td>2 KB</td>\n",
       "    </tr>\n",
       "    <tr>\n",
       "      <th>34</th>\n",
       "      <td>Prathamesh</td>\n",
       "      <td>Hide n Seek</td>\n",
       "      <td>Accepted</td>\n",
       "      <td>C++</td>\n",
       "      <td>0.009616s</td>\n",
       "      <td>2 KB</td>\n",
       "    </tr>\n",
       "    <tr>\n",
       "      <th>39</th>\n",
       "      <td>Prathamesh</td>\n",
       "      <td>Interesting Discount</td>\n",
       "      <td>Accepted</td>\n",
       "      <td>C++</td>\n",
       "      <td>0.021359s</td>\n",
       "      <td>2 KB</td>\n",
       "    </tr>\n",
       "    <tr>\n",
       "      <th>41</th>\n",
       "      <td>Abd786</td>\n",
       "      <td>Hide n Seek</td>\n",
       "      <td>Accepted</td>\n",
       "      <td>Python3</td>\n",
       "      <td>0.028682s</td>\n",
       "      <td>2888 KB</td>\n",
       "    </tr>\n",
       "    <tr>\n",
       "      <th>42</th>\n",
       "      <td>Prathamesh</td>\n",
       "      <td>Boxes and Colours</td>\n",
       "      <td>Accepted</td>\n",
       "      <td>C++</td>\n",
       "      <td>0.022002s</td>\n",
       "      <td>2 KB</td>\n",
       "    </tr>\n",
       "    <tr>\n",
       "      <th>45</th>\n",
       "      <td>SRiVARi</td>\n",
       "      <td>Interesting Discount</td>\n",
       "      <td>Accepted</td>\n",
       "      <td>Python3</td>\n",
       "      <td>0.029539s</td>\n",
       "      <td>2888 KB</td>\n",
       "    </tr>\n",
       "    <tr>\n",
       "      <th>47</th>\n",
       "      <td>Sd2000</td>\n",
       "      <td>Hide n Seek</td>\n",
       "      <td>Accepted</td>\n",
       "      <td>Python3</td>\n",
       "      <td>0.053018s</td>\n",
       "      <td>2888 KB</td>\n",
       "    </tr>\n",
       "    <tr>\n",
       "      <th>48</th>\n",
       "      <td>Codelord_10</td>\n",
       "      <td>Boxes and Colours</td>\n",
       "      <td>Accepted</td>\n",
       "      <td>Python3</td>\n",
       "      <td>0.254993s</td>\n",
       "      <td>2888 KB</td>\n",
       "    </tr>\n",
       "    <tr>\n",
       "      <th>49</th>\n",
       "      <td>Aditya14022002</td>\n",
       "      <td>Hide n Seek</td>\n",
       "      <td>Accepted</td>\n",
       "      <td>C++</td>\n",
       "      <td>0.022008s</td>\n",
       "      <td>2 KB</td>\n",
       "    </tr>\n",
       "    <tr>\n",
       "      <th>51</th>\n",
       "      <td>Abd786</td>\n",
       "      <td>Chloe Loves Flowers</td>\n",
       "      <td>Accepted</td>\n",
       "      <td>Python3</td>\n",
       "      <td>0.027557s</td>\n",
       "      <td>2888 KB</td>\n",
       "    </tr>\n",
       "    <tr>\n",
       "      <th>53</th>\n",
       "      <td>Ronnie468</td>\n",
       "      <td>Chloe Loves Flowers</td>\n",
       "      <td>Accepted</td>\n",
       "      <td>Python3</td>\n",
       "      <td>0.02969s</td>\n",
       "      <td>2888 KB</td>\n",
       "    </tr>\n",
       "    <tr>\n",
       "      <th>61</th>\n",
       "      <td>Aditya14022002</td>\n",
       "      <td>Interesting Discount</td>\n",
       "      <td>Accepted</td>\n",
       "      <td>Python3</td>\n",
       "      <td>0.029224s</td>\n",
       "      <td>2888 KB</td>\n",
       "    </tr>\n",
       "    <tr>\n",
       "      <th>62</th>\n",
       "      <td>AmitChaurasiya</td>\n",
       "      <td>Chloe Loves Flowers</td>\n",
       "      <td>Accepted</td>\n",
       "      <td>C++</td>\n",
       "      <td>0.020132s</td>\n",
       "      <td>2 KB</td>\n",
       "    </tr>\n",
       "    <tr>\n",
       "      <th>63</th>\n",
       "      <td>Sd2000</td>\n",
       "      <td>Interesting Discount</td>\n",
       "      <td>Accepted</td>\n",
       "      <td>Python3</td>\n",
       "      <td>0.043622s</td>\n",
       "      <td>2888 KB</td>\n",
       "    </tr>\n",
       "    <tr>\n",
       "      <th>65</th>\n",
       "      <td>Anand235</td>\n",
       "      <td>Interesting Discount</td>\n",
       "      <td>Accepted</td>\n",
       "      <td>Python3</td>\n",
       "      <td>0.020169s</td>\n",
       "      <td>2 KB</td>\n",
       "    </tr>\n",
       "    <tr>\n",
       "      <th>69</th>\n",
       "      <td>Aditya14022002</td>\n",
       "      <td>Chloe Loves Flowers</td>\n",
       "      <td>Accepted</td>\n",
       "      <td>C++</td>\n",
       "      <td>0.021583s</td>\n",
       "      <td>2 KB</td>\n",
       "    </tr>\n",
       "    <tr>\n",
       "      <th>70</th>\n",
       "      <td>lats_123</td>\n",
       "      <td>Chloe Loves Flowers</td>\n",
       "      <td>Accepted</td>\n",
       "      <td>C++</td>\n",
       "      <td>0.085319s</td>\n",
       "      <td>360 KB</td>\n",
       "    </tr>\n",
       "    <tr>\n",
       "      <th>72</th>\n",
       "      <td>salman01</td>\n",
       "      <td>Boxes and Colours</td>\n",
       "      <td>Accepted</td>\n",
       "      <td>Python3</td>\n",
       "      <td>0.052922s</td>\n",
       "      <td>2888 KB</td>\n",
       "    </tr>\n",
       "    <tr>\n",
       "      <th>73</th>\n",
       "      <td>Anand235</td>\n",
       "      <td>Boxes and Colours</td>\n",
       "      <td>Accepted</td>\n",
       "      <td>Python3</td>\n",
       "      <td>0.052949s</td>\n",
       "      <td>2888 KB</td>\n",
       "    </tr>\n",
       "    <tr>\n",
       "      <th>76</th>\n",
       "      <td>salman01</td>\n",
       "      <td>Chloe Loves Flowers</td>\n",
       "      <td>Accepted</td>\n",
       "      <td>Python3</td>\n",
       "      <td>4.148323s</td>\n",
       "      <td>2888 KB</td>\n",
       "    </tr>\n",
       "    <tr>\n",
       "      <th>79</th>\n",
       "      <td>suryamadhavan</td>\n",
       "      <td>Chloe Loves Flowers</td>\n",
       "      <td>Accepted</td>\n",
       "      <td>C++</td>\n",
       "      <td>0.019995s</td>\n",
       "      <td>2 KB</td>\n",
       "    </tr>\n",
       "    <tr>\n",
       "      <th>87</th>\n",
       "      <td>salman01</td>\n",
       "      <td>Hide n Seek</td>\n",
       "      <td>Accepted</td>\n",
       "      <td>Python3</td>\n",
       "      <td>0.030136s</td>\n",
       "      <td>2888 KB</td>\n",
       "    </tr>\n",
       "    <tr>\n",
       "      <th>89</th>\n",
       "      <td>Codelord_10</td>\n",
       "      <td>Chloe Loves Flowers</td>\n",
       "      <td>Accepted</td>\n",
       "      <td>C++</td>\n",
       "      <td>0.020567s</td>\n",
       "      <td>2 KB</td>\n",
       "    </tr>\n",
       "  </tbody>\n",
       "</table>\n",
       "</div>"
      ],
      "text/plain": [
       "           username               problem    verdict   language        time  \\\n",
       "1            sravya  Chloe Loves Flowers    Accepted    Python3   0.017014s   \n",
       "7     suryamadhavan           Hide n Seek   Accepted        C++   0.008614s   \n",
       "12       Sucharya01  Chloe Loves Flowers    Accepted    Python3   0.030186s   \n",
       "16           sravya  Chloe Loves Flowers    Accepted    Python3   0.017014s   \n",
       "22    suryamadhavan           Hide n Seek   Accepted        C++   0.008614s   \n",
       "27       Sucharya01  Chloe Loves Flowers    Accepted    Python3   0.030186s   \n",
       "30          SRiVARi  Chloe Loves Flowers    Accepted    Python3   0.017402s   \n",
       "31         jsnehal1  Interesting Discount   Accepted    Python3   0.030079s   \n",
       "33        Ronnie468  Interesting Discount   Accepted    Python3   0.016512s   \n",
       "34       Prathamesh           Hide n Seek   Accepted        C++   0.009616s   \n",
       "39       Prathamesh  Interesting Discount   Accepted        C++   0.021359s   \n",
       "41           Abd786           Hide n Seek   Accepted    Python3   0.028682s   \n",
       "42       Prathamesh     Boxes and Colours   Accepted        C++   0.022002s   \n",
       "45          SRiVARi  Interesting Discount   Accepted    Python3   0.029539s   \n",
       "47           Sd2000           Hide n Seek   Accepted    Python3   0.053018s   \n",
       "48      Codelord_10     Boxes and Colours   Accepted    Python3   0.254993s   \n",
       "49   Aditya14022002           Hide n Seek   Accepted        C++   0.022008s   \n",
       "51           Abd786  Chloe Loves Flowers    Accepted    Python3   0.027557s   \n",
       "53        Ronnie468  Chloe Loves Flowers    Accepted    Python3    0.02969s   \n",
       "61   Aditya14022002  Interesting Discount   Accepted    Python3   0.029224s   \n",
       "62   AmitChaurasiya  Chloe Loves Flowers    Accepted        C++   0.020132s   \n",
       "63           Sd2000  Interesting Discount   Accepted    Python3   0.043622s   \n",
       "65         Anand235  Interesting Discount   Accepted    Python3   0.020169s   \n",
       "69   Aditya14022002  Chloe Loves Flowers    Accepted        C++   0.021583s   \n",
       "70         lats_123  Chloe Loves Flowers    Accepted        C++   0.085319s   \n",
       "72         salman01     Boxes and Colours   Accepted    Python3   0.052922s   \n",
       "73         Anand235     Boxes and Colours   Accepted    Python3   0.052949s   \n",
       "76         salman01  Chloe Loves Flowers    Accepted    Python3   4.148323s   \n",
       "79    suryamadhavan  Chloe Loves Flowers    Accepted        C++   0.019995s   \n",
       "87         salman01           Hide n Seek   Accepted    Python3   0.030136s   \n",
       "89      Codelord_10  Chloe Loves Flowers    Accepted        C++   0.020567s   \n",
       "\n",
       "      memory  \n",
       "1       2 KB  \n",
       "7       2 KB  \n",
       "12   2888 KB  \n",
       "16      2 KB  \n",
       "22      2 KB  \n",
       "27   2888 KB  \n",
       "30      2 KB  \n",
       "31   2888 KB  \n",
       "33      2 KB  \n",
       "34      2 KB  \n",
       "39      2 KB  \n",
       "41   2888 KB  \n",
       "42      2 KB  \n",
       "45   2888 KB  \n",
       "47   2888 KB  \n",
       "48   2888 KB  \n",
       "49      2 KB  \n",
       "51   2888 KB  \n",
       "53   2888 KB  \n",
       "61   2888 KB  \n",
       "62      2 KB  \n",
       "63   2888 KB  \n",
       "65      2 KB  \n",
       "69      2 KB  \n",
       "70    360 KB  \n",
       "72   2888 KB  \n",
       "73   2888 KB  \n",
       "76   2888 KB  \n",
       "79      2 KB  \n",
       "87   2888 KB  \n",
       "89      2 KB  "
      ]
     },
     "execution_count": 149,
     "metadata": {},
     "output_type": "execute_result"
    }
   ],
   "source": [
    "df[df['verdict'].str.contains(\"Accepted\")]"
   ]
  },
  {
   "cell_type": "code",
   "execution_count": 154,
   "metadata": {},
   "outputs": [
    {
     "data": {
      "image/png": "[encoded data removed]",
      "text/plain": [
       "<Figure size 432x288 with 1 Axes>"
      ]
     },
     "metadata": {
      "needs_background": "light"
     },
     "output_type": "display_data"
    }
   ],
   "source": [
    "# Bar chart for accpeted vs problem\n",
    "verdict_accpeted = df[df['verdict'].str.contains(\"Accepted\")]\n",
    "verdict_accpeted['problem'].value_counts().plot(kind='bar')\n",
    "plt.show()"
   ]
  },
  {
   "cell_type": "code",
   "execution_count": 172,
   "metadata": {},
   "outputs": [
    {
     "data": {
      "text/plain": [
       "username     object\n",
       "problem      object\n",
       "verdict      string\n",
       "language     object\n",
       "time        float64\n",
       "memory       object\n",
       "dtype: object"
      ]
     },
     "execution_count": 172,
     "metadata": {},
     "output_type": "execute_result"
    }
   ],
   "source": [
    "df.dtypes"
   ]
  },
  {
   "cell_type": "code",
   "execution_count": 160,
   "metadata": {},
   "outputs": [],
   "source": [
    "df['time']=df['time'].astype(\"string\")"
   ]
  },
  {
   "cell_type": "code",
   "execution_count": 165,
   "metadata": {},
   "outputs": [],
   "source": [
    "df['time']=df['time'].str.replace('s','')"
   ]
  },
  {
   "cell_type": "code",
   "execution_count": 167,
   "metadata": {},
   "outputs": [
    {
     "data": {
      "text/html": [
       "<div>\n",
       "<style scoped>\n",
       "    .dataframe tbody tr th:only-of-type {\n",
       "        vertical-align: middle;\n",
       "    }\n",
       "\n",
       "    .dataframe tbody tr th {\n",
       "        vertical-align: top;\n",
       "    }\n",
       "\n",
       "    .dataframe thead th {\n",
       "        text-align: right;\n",
       "    }\n",
       "</style>\n",
       "<table border=\"1\" class=\"dataframe\">\n",
       "  <thead>\n",
       "    <tr style=\"text-align: right;\">\n",
       "      <th></th>\n",
       "      <th>username</th>\n",
       "      <th>problem</th>\n",
       "      <th>verdict</th>\n",
       "      <th>language</th>\n",
       "      <th>time</th>\n",
       "      <th>memory</th>\n",
       "    </tr>\n",
       "  </thead>\n",
       "  <tbody>\n",
       "    <tr>\n",
       "      <th>0</th>\n",
       "      <td>suryamadhavan</td>\n",
       "      <td>Boxes and Colours</td>\n",
       "      <td>Runtime Error</td>\n",
       "      <td>Python3</td>\n",
       "      <td>0.016867</td>\n",
       "      <td>2 KB</td>\n",
       "    </tr>\n",
       "    <tr>\n",
       "      <th>1</th>\n",
       "      <td>sravya</td>\n",
       "      <td>Chloe Loves Flowers</td>\n",
       "      <td>Accepted</td>\n",
       "      <td>Python3</td>\n",
       "      <td>0.017014</td>\n",
       "      <td>2 KB</td>\n",
       "    </tr>\n",
       "    <tr>\n",
       "      <th>2</th>\n",
       "      <td>jsnehal1</td>\n",
       "      <td>Hide n Seek</td>\n",
       "      <td>Wrong Answer</td>\n",
       "      <td>Python3</td>\n",
       "      <td>0.024723</td>\n",
       "      <td>2888 KB</td>\n",
       "    </tr>\n",
       "    <tr>\n",
       "      <th>3</th>\n",
       "      <td>msarvesh</td>\n",
       "      <td>Chloe Loves Flowers</td>\n",
       "      <td>Runtime Error</td>\n",
       "      <td>Python3</td>\n",
       "      <td>0.017152</td>\n",
       "      <td>2 KB</td>\n",
       "    </tr>\n",
       "    <tr>\n",
       "      <th>4</th>\n",
       "      <td>msarvesh</td>\n",
       "      <td>Chloe Loves Flowers</td>\n",
       "      <td>Runtime Error</td>\n",
       "      <td>Python3</td>\n",
       "      <td>0.016651</td>\n",
       "      <td>2 KB</td>\n",
       "    </tr>\n",
       "  </tbody>\n",
       "</table>\n",
       "</div>"
      ],
      "text/plain": [
       "         username               problem         verdict   language       time  \\\n",
       "0   suryamadhavan     Boxes and Colours   Runtime Error    Python3   0.016867   \n",
       "1          sravya  Chloe Loves Flowers         Accepted    Python3   0.017014   \n",
       "2        jsnehal1           Hide n Seek    Wrong Answer    Python3   0.024723   \n",
       "3        msarvesh  Chloe Loves Flowers    Runtime Error    Python3   0.017152   \n",
       "4        msarvesh  Chloe Loves Flowers    Runtime Error    Python3   0.016651   \n",
       "\n",
       "     memory  \n",
       "0      2 KB  \n",
       "1      2 KB  \n",
       "2   2888 KB  \n",
       "3      2 KB  \n",
       "4      2 KB  "
      ]
     },
     "execution_count": 167,
     "metadata": {},
     "output_type": "execute_result"
    }
   ],
   "source": [
    "df.head()"
   ]
  },
  {
   "cell_type": "code",
   "execution_count": 169,
   "metadata": {},
   "outputs": [],
   "source": [
    "df['time']=df['time'].astype(\"float\")"
   ]
  },
  {
   "cell_type": "code",
   "execution_count": 198,
   "metadata": {},
   "outputs": [
    {
     "data": {
      "text/plain": [
       "username     string\n",
       "problem      object\n",
       "verdict      string\n",
       "language     object\n",
       "time        float64\n",
       "memory       object\n",
       "dtype: object"
      ]
     },
     "execution_count": 198,
     "metadata": {},
     "output_type": "execute_result"
    }
   ],
   "source": [
    "df.dtypes"
   ]
  },
  {
   "cell_type": "code",
   "execution_count": 179,
   "metadata": {},
   "outputs": [
    {
     "name": "stdout",
     "output_type": "stream",
     "text": [
      "4\n"
     ]
    }
   ],
   "source": [
    "# Effient time with respect to problem\n",
    "prob = df['problem'].unique()\n",
    "print(len(prob))"
   ]
  },
  {
   "cell_type": "code",
   "execution_count": 196,
   "metadata": {},
   "outputs": [],
   "source": [
    "df['username'] = df['username'].astype(\"string\")"
   ]
  },
  {
   "cell_type": "code",
   "execution_count": 217,
   "metadata": {},
   "outputs": [
    {
     "name": "stdout",
     "output_type": "stream",
     "text": [
      "Boxes and Colours  Prathamesh  suryamadhavan\n",
      "Chloe Loves Flowers   sravya  suryamadhavan\n",
      "Hide n Seek  suryamadhavan  suryamadhavan\n",
      "Interesting Discount  Ronnie468  suryamadhavan\n"
     ]
    }
   ],
   "source": [
    "\n",
    "for i in prob:\n",
    "    global df_et\n",
    "    Effient_time = df[df['verdict'].str.contains(\"Accepted\") & df['problem'].str.contains(i)]['time'].min()\n",
    "    Effient_memory = df[df['verdict'].str.contains(\"Accepted\") & df['problem'].str.contains(i)]['memory'].min()\n",
    "    # print(i, Effient_time, Effient_memory)\n",
    "    user_name_et = df[df['time'] == Effient_time]['username'].astype(\"string\").iloc[0]\n",
    "    user_name_em = df[df['memory'] == Effient_memory]['username'].astype(\"string\").iloc[0]\n",
    "    print(i,user_name_et, user_name_em)\n",
    "    \n"
   ]
  }
 ],
 "metadata": {
  "interpreter": {
   "hash": "7085220a67382105aa5b4c484e92d6d1458310670eac078ca44f98015c944f25"
  },
  "kernelspec": {
   "display_name": "Python 3.9.7 64-bit",
   "language": "python",
   "name": "python3"
  },
  "language_info": {
   "codemirror_mode": {
    "name": "ipython",
    "version": 3
   },
   "file_extension": ".py",
   "mimetype": "text/x-python",
   "name": "python",
   "nbconvert_exporter": "python",
   "pygments_lexer": "ipython3",
   "version": "3.9.7"
  },
  "orig_nbformat": 4
 },
 "nbformat": 4,
 "nbformat_minor": 2
}
